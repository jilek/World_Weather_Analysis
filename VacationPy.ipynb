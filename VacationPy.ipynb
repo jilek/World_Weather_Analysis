{
 "cells": [
  {
   "cell_type": "code",
   "execution_count": 1,
   "metadata": {},
   "outputs": [],
   "source": [
    "# Import the dependencies.\n",
    "import pandas as pd\n",
    "import gmaps\n",
    "import requests\n",
    "# Import the API key.\n",
    "from config import g_key"
   ]
  },
  {
   "cell_type": "markdown",
   "metadata": {},
   "source": [
    "# Read the CSV file created by WeatherPy"
   ]
  },
  {
   "cell_type": "code",
   "execution_count": 2,
   "metadata": {},
   "outputs": [
    {
     "data": {
      "text/html": [
       "<div>\n",
       "<style scoped>\n",
       "    .dataframe tbody tr th:only-of-type {\n",
       "        vertical-align: middle;\n",
       "    }\n",
       "\n",
       "    .dataframe tbody tr th {\n",
       "        vertical-align: top;\n",
       "    }\n",
       "\n",
       "    .dataframe thead th {\n",
       "        text-align: right;\n",
       "    }\n",
       "</style>\n",
       "<table border=\"1\" class=\"dataframe\">\n",
       "  <thead>\n",
       "    <tr style=\"text-align: right;\">\n",
       "      <th></th>\n",
       "      <th>City_ID</th>\n",
       "      <th>City</th>\n",
       "      <th>Country</th>\n",
       "      <th>Date</th>\n",
       "      <th>Lat</th>\n",
       "      <th>Lng</th>\n",
       "      <th>Max Temp</th>\n",
       "      <th>Humidity</th>\n",
       "      <th>Cloudiness</th>\n",
       "      <th>Wind Speed</th>\n",
       "    </tr>\n",
       "  </thead>\n",
       "  <tbody>\n",
       "    <tr>\n",
       "      <th>0</th>\n",
       "      <td>0</td>\n",
       "      <td>Castro</td>\n",
       "      <td>BR</td>\n",
       "      <td>2021-04-09 23:56:20</td>\n",
       "      <td>-24.7911</td>\n",
       "      <td>-50.0119</td>\n",
       "      <td>67.12</td>\n",
       "      <td>67</td>\n",
       "      <td>67</td>\n",
       "      <td>2.10</td>\n",
       "    </tr>\n",
       "    <tr>\n",
       "      <th>1</th>\n",
       "      <td>1</td>\n",
       "      <td>Bluff</td>\n",
       "      <td>NZ</td>\n",
       "      <td>2021-04-09 23:56:19</td>\n",
       "      <td>-46.6000</td>\n",
       "      <td>168.3333</td>\n",
       "      <td>57.00</td>\n",
       "      <td>80</td>\n",
       "      <td>98</td>\n",
       "      <td>1.99</td>\n",
       "    </tr>\n",
       "    <tr>\n",
       "      <th>2</th>\n",
       "      <td>2</td>\n",
       "      <td>Ushuaia</td>\n",
       "      <td>AR</td>\n",
       "      <td>2021-04-09 23:56:05</td>\n",
       "      <td>-54.8000</td>\n",
       "      <td>-68.3000</td>\n",
       "      <td>46.40</td>\n",
       "      <td>66</td>\n",
       "      <td>40</td>\n",
       "      <td>6.91</td>\n",
       "    </tr>\n",
       "    <tr>\n",
       "      <th>3</th>\n",
       "      <td>3</td>\n",
       "      <td>Sydney</td>\n",
       "      <td>AU</td>\n",
       "      <td>2021-04-10 00:00:26</td>\n",
       "      <td>-33.8679</td>\n",
       "      <td>151.2073</td>\n",
       "      <td>68.00</td>\n",
       "      <td>48</td>\n",
       "      <td>40</td>\n",
       "      <td>19.57</td>\n",
       "    </tr>\n",
       "    <tr>\n",
       "      <th>4</th>\n",
       "      <td>4</td>\n",
       "      <td>Bambous Virieux</td>\n",
       "      <td>MU</td>\n",
       "      <td>2021-04-09 23:56:59</td>\n",
       "      <td>-20.3428</td>\n",
       "      <td>57.7575</td>\n",
       "      <td>79.00</td>\n",
       "      <td>94</td>\n",
       "      <td>75</td>\n",
       "      <td>3.44</td>\n",
       "    </tr>\n",
       "  </tbody>\n",
       "</table>\n",
       "</div>"
      ],
      "text/plain": [
       "   City_ID             City Country                 Date      Lat       Lng  \\\n",
       "0        0           Castro      BR  2021-04-09 23:56:20 -24.7911  -50.0119   \n",
       "1        1            Bluff      NZ  2021-04-09 23:56:19 -46.6000  168.3333   \n",
       "2        2          Ushuaia      AR  2021-04-09 23:56:05 -54.8000  -68.3000   \n",
       "3        3           Sydney      AU  2021-04-10 00:00:26 -33.8679  151.2073   \n",
       "4        4  Bambous Virieux      MU  2021-04-09 23:56:59 -20.3428   57.7575   \n",
       "\n",
       "   Max Temp  Humidity  Cloudiness  Wind Speed  \n",
       "0     67.12        67          67        2.10  \n",
       "1     57.00        80          98        1.99  \n",
       "2     46.40        66          40        6.91  \n",
       "3     68.00        48          40       19.57  \n",
       "4     79.00        94          75        3.44  "
      ]
     },
     "execution_count": 2,
     "metadata": {},
     "output_type": "execute_result"
    }
   ],
   "source": [
    "# Store the CSV you saved created in part one into a DataFrame.\n",
    "city_data_df = pd.read_csv(\"weather_data/cities.csv\")\n",
    "city_data_df.head()"
   ]
  },
  {
   "cell_type": "code",
   "execution_count": 3,
   "metadata": {},
   "outputs": [
    {
     "data": {
      "text/plain": [
       "City_ID         int64\n",
       "City           object\n",
       "Country        object\n",
       "Date           object\n",
       "Lat           float64\n",
       "Lng           float64\n",
       "Max Temp      float64\n",
       "Humidity        int64\n",
       "Cloudiness      int64\n",
       "Wind Speed    float64\n",
       "dtype: object"
      ]
     },
     "execution_count": 3,
     "metadata": {},
     "output_type": "execute_result"
    }
   ],
   "source": [
    "city_data_df.dtypes"
   ]
  },
  {
   "cell_type": "markdown",
   "metadata": {},
   "source": [
    "# Configure our gmaps key"
   ]
  },
  {
   "cell_type": "code",
   "execution_count": 4,
   "metadata": {},
   "outputs": [],
   "source": [
    "# Configure gmaps to use your Google API key.\n",
    "gmaps.configure(api_key=g_key)"
   ]
  },
  {
   "cell_type": "markdown",
   "metadata": {},
   "source": [
    "# Make sure all temps are non-negative"
   ]
  },
  {
   "cell_type": "code",
   "execution_count": 5,
   "metadata": {},
   "outputs": [],
   "source": [
    "# Get the maximum temperature.\n",
    "max_temp = city_data_df[\"Max Temp\"]\n",
    "temps = []\n",
    "for temp in max_temp:\n",
    "    temps.append(max(temp, 0))"
   ]
  },
  {
   "cell_type": "markdown",
   "metadata": {},
   "source": [
    "# Create the heatmap for Max Temp"
   ]
  },
  {
   "cell_type": "code",
   "execution_count": 6,
   "metadata": {},
   "outputs": [
    {
     "data": {
      "application/vnd.jupyter.widget-view+json": {
       "model_id": "9c6c6883bbd0444aac9b120f85144d00",
       "version_major": 2,
       "version_minor": 0
      },
      "text/plain": [
       "Figure(layout=FigureLayout(height='420px'))"
      ]
     },
     "metadata": {},
     "output_type": "display_data"
    }
   ],
   "source": [
    "# Heatmap of temperature\n",
    "# Get the latitude and longitude.\n",
    "locations = city_data_df[[\"Lat\", \"Lng\"]]\n",
    "\n",
    "# Get the maximum temperature.\n",
    "#max_temp = city_data_df[\"Max Temp\"]\n",
    "\n",
    "# Assign the figure variable.\n",
    "#fig = gmaps.figure()\n",
    "fig = gmaps.figure(center=(30.0, 31.0), zoom_level=1.5)\n",
    "\n",
    "# Assign the heatmap variable.\n",
    "#heat_layer = gmaps.heatmap_layer(locations, weights=max_temp)\n",
    "heat_layer = gmaps.heatmap_layer(locations, weights=temps)\n",
    "#heat_layer = gmaps.heatmap_layer(locations, weights=[max(temp, 0) for temp in max_temp])\n",
    "heat_layer = gmaps.heatmap_layer(locations, weights=temps, dissipating=False, max_intensity=300, point_radius=4)\n",
    "\n",
    "# Add the heatmap layer.\n",
    "fig.add_layer(heat_layer)\n",
    "\n",
    "# Call the figure to plot the data.\n",
    "fig"
   ]
  },
  {
   "cell_type": "markdown",
   "metadata": {},
   "source": [
    "# Create the heatmap for Humidity"
   ]
  },
  {
   "cell_type": "code",
   "execution_count": 7,
   "metadata": {},
   "outputs": [
    {
     "data": {
      "application/vnd.jupyter.widget-view+json": {
       "model_id": "9c6fd237a28a4e66a6a66c83b8c96522",
       "version_major": 2,
       "version_minor": 0
      },
      "text/plain": [
       "Figure(layout=FigureLayout(height='420px'))"
      ]
     },
     "metadata": {},
     "output_type": "display_data"
    }
   ],
   "source": [
    "# Heatmap of percent humidity\n",
    "locations = city_data_df[[\"Lat\", \"Lng\"]]\n",
    "humidity = city_data_df[\"Humidity\"]\n",
    "fig = gmaps.figure(center=(30.0, 31.0), zoom_level=1.5)\n",
    "heat_layer = gmaps.heatmap_layer(locations, weights=humidity, dissipating=False, max_intensity=300, point_radius=4)\n",
    "\n",
    "fig.add_layer(heat_layer)\n",
    "# Call the figure to plot the data.\n",
    "fig"
   ]
  },
  {
   "cell_type": "markdown",
   "metadata": {},
   "source": [
    "# Create Heatmap for Cloudiness"
   ]
  },
  {
   "cell_type": "code",
   "execution_count": 8,
   "metadata": {
    "scrolled": true
   },
   "outputs": [
    {
     "data": {
      "application/vnd.jupyter.widget-view+json": {
       "model_id": "5e3639f5a04744608934396560f97859",
       "version_major": 2,
       "version_minor": 0
      },
      "text/plain": [
       "Figure(layout=FigureLayout(height='420px'))"
      ]
     },
     "metadata": {},
     "output_type": "display_data"
    }
   ],
   "source": [
    "# Heatmap of percent humidity\n",
    "locations = city_data_df[[\"Lat\", \"Lng\"]]\n",
    "clouds = city_data_df[\"Cloudiness\"]\n",
    "fig = gmaps.figure(center=(30.0, 31.0), zoom_level=1.5)\n",
    "heat_layer = gmaps.heatmap_layer(locations, weights=clouds, dissipating=False, max_intensity=300, point_radius=4)\n",
    "\n",
    "fig.add_layer(heat_layer)\n",
    "# Call the figure to plot the data.\n",
    "fig"
   ]
  },
  {
   "cell_type": "markdown",
   "metadata": {},
   "source": [
    "# Create Heatmap for Wind Speed"
   ]
  },
  {
   "cell_type": "code",
   "execution_count": 9,
   "metadata": {},
   "outputs": [
    {
     "data": {
      "application/vnd.jupyter.widget-view+json": {
       "model_id": "7a0ffd27325148f493a590779a7c3cfc",
       "version_major": 2,
       "version_minor": 0
      },
      "text/plain": [
       "Figure(layout=FigureLayout(height='420px'))"
      ]
     },
     "metadata": {},
     "output_type": "display_data"
    }
   ],
   "source": [
    "# Heatmap of percent humidity\n",
    "locations = city_data_df[[\"Lat\", \"Lng\"]]\n",
    "wind_speed = city_data_df[\"Wind Speed\"]\n",
    "fig = gmaps.figure(center=(30.0, 31.0), zoom_level=1.5)\n",
    "heat_layer = gmaps.heatmap_layer(locations, weights=wind_speed, dissipating=False, max_intensity=300, point_radius=4)\n",
    "\n",
    "fig.add_layer(heat_layer)\n",
    "# Call the figure to plot the data.\n",
    "fig"
   ]
  },
  {
   "cell_type": "markdown",
   "metadata": {},
   "source": [
    "# Get user temp prefs"
   ]
  },
  {
   "cell_type": "code",
   "execution_count": 10,
   "metadata": {},
   "outputs": [
    {
     "name": "stdout",
     "output_type": "stream",
     "text": [
      "What is the minimum temperature you would like for your trip? 80\n",
      "What is the maximum temperature you would like for your trip? 95\n"
     ]
    }
   ],
   "source": [
    "min_temp = float(input(\"What is the minimum temperature you would like for your trip? \"))\n",
    "max_temp = float(input(\"What is the maximum temperature you would like for your trip? \"))"
   ]
  },
  {
   "cell_type": "markdown",
   "metadata": {},
   "source": [
    "#  Find cities that match user prefs"
   ]
  },
  {
   "cell_type": "code",
   "execution_count": 11,
   "metadata": {},
   "outputs": [
    {
     "data": {
      "text/html": [
       "<div>\n",
       "<style scoped>\n",
       "    .dataframe tbody tr th:only-of-type {\n",
       "        vertical-align: middle;\n",
       "    }\n",
       "\n",
       "    .dataframe tbody tr th {\n",
       "        vertical-align: top;\n",
       "    }\n",
       "\n",
       "    .dataframe thead th {\n",
       "        text-align: right;\n",
       "    }\n",
       "</style>\n",
       "<table border=\"1\" class=\"dataframe\">\n",
       "  <thead>\n",
       "    <tr style=\"text-align: right;\">\n",
       "      <th></th>\n",
       "      <th>City_ID</th>\n",
       "      <th>City</th>\n",
       "      <th>Country</th>\n",
       "      <th>Date</th>\n",
       "      <th>Lat</th>\n",
       "      <th>Lng</th>\n",
       "      <th>Max Temp</th>\n",
       "      <th>Humidity</th>\n",
       "      <th>Cloudiness</th>\n",
       "      <th>Wind Speed</th>\n",
       "    </tr>\n",
       "  </thead>\n",
       "  <tbody>\n",
       "    <tr>\n",
       "      <th>15</th>\n",
       "      <td>15</td>\n",
       "      <td>Vaini</td>\n",
       "      <td>TO</td>\n",
       "      <td>2021-04-09 23:56:11</td>\n",
       "      <td>-21.2000</td>\n",
       "      <td>-175.2000</td>\n",
       "      <td>82.40</td>\n",
       "      <td>69</td>\n",
       "      <td>40</td>\n",
       "      <td>5.75</td>\n",
       "    </tr>\n",
       "    <tr>\n",
       "      <th>40</th>\n",
       "      <td>40</td>\n",
       "      <td>Fare</td>\n",
       "      <td>PF</td>\n",
       "      <td>2021-04-10 00:00:42</td>\n",
       "      <td>-16.7000</td>\n",
       "      <td>-151.0167</td>\n",
       "      <td>82.08</td>\n",
       "      <td>68</td>\n",
       "      <td>87</td>\n",
       "      <td>5.99</td>\n",
       "    </tr>\n",
       "    <tr>\n",
       "      <th>48</th>\n",
       "      <td>48</td>\n",
       "      <td>Namatanai</td>\n",
       "      <td>PG</td>\n",
       "      <td>2021-04-09 23:56:30</td>\n",
       "      <td>-3.6667</td>\n",
       "      <td>152.4333</td>\n",
       "      <td>84.78</td>\n",
       "      <td>68</td>\n",
       "      <td>95</td>\n",
       "      <td>10.85</td>\n",
       "    </tr>\n",
       "    <tr>\n",
       "      <th>55</th>\n",
       "      <td>55</td>\n",
       "      <td>Mogadishu</td>\n",
       "      <td>SO</td>\n",
       "      <td>2021-04-10 00:00:45</td>\n",
       "      <td>2.0371</td>\n",
       "      <td>45.3438</td>\n",
       "      <td>81.75</td>\n",
       "      <td>77</td>\n",
       "      <td>29</td>\n",
       "      <td>10.45</td>\n",
       "    </tr>\n",
       "    <tr>\n",
       "      <th>62</th>\n",
       "      <td>62</td>\n",
       "      <td>Touros</td>\n",
       "      <td>BR</td>\n",
       "      <td>2021-04-09 23:57:52</td>\n",
       "      <td>-5.1989</td>\n",
       "      <td>-35.4608</td>\n",
       "      <td>80.60</td>\n",
       "      <td>78</td>\n",
       "      <td>0</td>\n",
       "      <td>9.22</td>\n",
       "    </tr>\n",
       "    <tr>\n",
       "      <th>66</th>\n",
       "      <td>66</td>\n",
       "      <td>Butaritari</td>\n",
       "      <td>KI</td>\n",
       "      <td>2021-04-09 23:56:32</td>\n",
       "      <td>3.0707</td>\n",
       "      <td>172.7902</td>\n",
       "      <td>81.81</td>\n",
       "      <td>79</td>\n",
       "      <td>99</td>\n",
       "      <td>15.37</td>\n",
       "    </tr>\n",
       "    <tr>\n",
       "      <th>67</th>\n",
       "      <td>67</td>\n",
       "      <td>Bilma</td>\n",
       "      <td>NE</td>\n",
       "      <td>2021-04-09 23:58:07</td>\n",
       "      <td>18.6853</td>\n",
       "      <td>12.9164</td>\n",
       "      <td>81.07</td>\n",
       "      <td>6</td>\n",
       "      <td>24</td>\n",
       "      <td>6.24</td>\n",
       "    </tr>\n",
       "    <tr>\n",
       "      <th>88</th>\n",
       "      <td>88</td>\n",
       "      <td>Det Udom</td>\n",
       "      <td>TH</td>\n",
       "      <td>2021-04-10 00:00:52</td>\n",
       "      <td>14.9060</td>\n",
       "      <td>105.0784</td>\n",
       "      <td>84.00</td>\n",
       "      <td>78</td>\n",
       "      <td>48</td>\n",
       "      <td>5.75</td>\n",
       "    </tr>\n",
       "    <tr>\n",
       "      <th>94</th>\n",
       "      <td>94</td>\n",
       "      <td>Atuona</td>\n",
       "      <td>PF</td>\n",
       "      <td>2021-04-09 23:56:28</td>\n",
       "      <td>-9.8000</td>\n",
       "      <td>-139.0333</td>\n",
       "      <td>80.71</td>\n",
       "      <td>75</td>\n",
       "      <td>21</td>\n",
       "      <td>14.43</td>\n",
       "    </tr>\n",
       "    <tr>\n",
       "      <th>100</th>\n",
       "      <td>100</td>\n",
       "      <td>Wichita Falls</td>\n",
       "      <td>US</td>\n",
       "      <td>2021-04-10 00:00:55</td>\n",
       "      <td>33.9137</td>\n",
       "      <td>-98.4934</td>\n",
       "      <td>84.20</td>\n",
       "      <td>37</td>\n",
       "      <td>1</td>\n",
       "      <td>12.66</td>\n",
       "    </tr>\n",
       "  </tbody>\n",
       "</table>\n",
       "</div>"
      ],
      "text/plain": [
       "     City_ID           City Country                 Date      Lat       Lng  \\\n",
       "15        15          Vaini      TO  2021-04-09 23:56:11 -21.2000 -175.2000   \n",
       "40        40           Fare      PF  2021-04-10 00:00:42 -16.7000 -151.0167   \n",
       "48        48      Namatanai      PG  2021-04-09 23:56:30  -3.6667  152.4333   \n",
       "55        55      Mogadishu      SO  2021-04-10 00:00:45   2.0371   45.3438   \n",
       "62        62         Touros      BR  2021-04-09 23:57:52  -5.1989  -35.4608   \n",
       "66        66     Butaritari      KI  2021-04-09 23:56:32   3.0707  172.7902   \n",
       "67        67          Bilma      NE  2021-04-09 23:58:07  18.6853   12.9164   \n",
       "88        88       Det Udom      TH  2021-04-10 00:00:52  14.9060  105.0784   \n",
       "94        94         Atuona      PF  2021-04-09 23:56:28  -9.8000 -139.0333   \n",
       "100      100  Wichita Falls      US  2021-04-10 00:00:55  33.9137  -98.4934   \n",
       "\n",
       "     Max Temp  Humidity  Cloudiness  Wind Speed  \n",
       "15      82.40        69          40        5.75  \n",
       "40      82.08        68          87        5.99  \n",
       "48      84.78        68          95       10.85  \n",
       "55      81.75        77          29       10.45  \n",
       "62      80.60        78           0        9.22  \n",
       "66      81.81        79          99       15.37  \n",
       "67      81.07         6          24        6.24  \n",
       "88      84.00        78          48        5.75  \n",
       "94      80.71        75          21       14.43  \n",
       "100     84.20        37           1       12.66  "
      ]
     },
     "execution_count": 11,
     "metadata": {},
     "output_type": "execute_result"
    }
   ],
   "source": [
    "# Filter the dataset to find the cities that fit the criteria.\n",
    "preferred_cities_df = city_data_df.loc[(city_data_df[\"Max Temp\"] <= max_temp) & \\\n",
    "                                       (city_data_df[\"Max Temp\"] >= min_temp)]\n",
    "preferred_cities_df.head(10)"
   ]
  },
  {
   "cell_type": "code",
   "execution_count": 12,
   "metadata": {},
   "outputs": [
    {
     "data": {
      "text/plain": [
       "City_ID       96\n",
       "City          96\n",
       "Country       96\n",
       "Date          96\n",
       "Lat           96\n",
       "Lng           96\n",
       "Max Temp      96\n",
       "Humidity      96\n",
       "Cloudiness    96\n",
       "Wind Speed    96\n",
       "dtype: int64"
      ]
     },
     "execution_count": 12,
     "metadata": {},
     "output_type": "execute_result"
    }
   ],
   "source": [
    "preferred_cities_df.count()"
   ]
  },
  {
   "cell_type": "markdown",
   "metadata": {},
   "source": [
    "# Create hotel_df to hold results"
   ]
  },
  {
   "cell_type": "code",
   "execution_count": 13,
   "metadata": {},
   "outputs": [
    {
     "data": {
      "text/html": [
       "<div>\n",
       "<style scoped>\n",
       "    .dataframe tbody tr th:only-of-type {\n",
       "        vertical-align: middle;\n",
       "    }\n",
       "\n",
       "    .dataframe tbody tr th {\n",
       "        vertical-align: top;\n",
       "    }\n",
       "\n",
       "    .dataframe thead th {\n",
       "        text-align: right;\n",
       "    }\n",
       "</style>\n",
       "<table border=\"1\" class=\"dataframe\">\n",
       "  <thead>\n",
       "    <tr style=\"text-align: right;\">\n",
       "      <th></th>\n",
       "      <th>City</th>\n",
       "      <th>Country</th>\n",
       "      <th>Max Temp</th>\n",
       "      <th>Lat</th>\n",
       "      <th>Lng</th>\n",
       "      <th>Hotel Name</th>\n",
       "    </tr>\n",
       "  </thead>\n",
       "  <tbody>\n",
       "    <tr>\n",
       "      <th>15</th>\n",
       "      <td>Vaini</td>\n",
       "      <td>TO</td>\n",
       "      <td>82.40</td>\n",
       "      <td>-21.2000</td>\n",
       "      <td>-175.2000</td>\n",
       "      <td></td>\n",
       "    </tr>\n",
       "    <tr>\n",
       "      <th>40</th>\n",
       "      <td>Fare</td>\n",
       "      <td>PF</td>\n",
       "      <td>82.08</td>\n",
       "      <td>-16.7000</td>\n",
       "      <td>-151.0167</td>\n",
       "      <td></td>\n",
       "    </tr>\n",
       "    <tr>\n",
       "      <th>48</th>\n",
       "      <td>Namatanai</td>\n",
       "      <td>PG</td>\n",
       "      <td>84.78</td>\n",
       "      <td>-3.6667</td>\n",
       "      <td>152.4333</td>\n",
       "      <td></td>\n",
       "    </tr>\n",
       "    <tr>\n",
       "      <th>55</th>\n",
       "      <td>Mogadishu</td>\n",
       "      <td>SO</td>\n",
       "      <td>81.75</td>\n",
       "      <td>2.0371</td>\n",
       "      <td>45.3438</td>\n",
       "      <td></td>\n",
       "    </tr>\n",
       "    <tr>\n",
       "      <th>62</th>\n",
       "      <td>Touros</td>\n",
       "      <td>BR</td>\n",
       "      <td>80.60</td>\n",
       "      <td>-5.1989</td>\n",
       "      <td>-35.4608</td>\n",
       "      <td></td>\n",
       "    </tr>\n",
       "    <tr>\n",
       "      <th>66</th>\n",
       "      <td>Butaritari</td>\n",
       "      <td>KI</td>\n",
       "      <td>81.81</td>\n",
       "      <td>3.0707</td>\n",
       "      <td>172.7902</td>\n",
       "      <td></td>\n",
       "    </tr>\n",
       "    <tr>\n",
       "      <th>67</th>\n",
       "      <td>Bilma</td>\n",
       "      <td>NE</td>\n",
       "      <td>81.07</td>\n",
       "      <td>18.6853</td>\n",
       "      <td>12.9164</td>\n",
       "      <td></td>\n",
       "    </tr>\n",
       "    <tr>\n",
       "      <th>88</th>\n",
       "      <td>Det Udom</td>\n",
       "      <td>TH</td>\n",
       "      <td>84.00</td>\n",
       "      <td>14.9060</td>\n",
       "      <td>105.0784</td>\n",
       "      <td></td>\n",
       "    </tr>\n",
       "    <tr>\n",
       "      <th>94</th>\n",
       "      <td>Atuona</td>\n",
       "      <td>PF</td>\n",
       "      <td>80.71</td>\n",
       "      <td>-9.8000</td>\n",
       "      <td>-139.0333</td>\n",
       "      <td></td>\n",
       "    </tr>\n",
       "    <tr>\n",
       "      <th>100</th>\n",
       "      <td>Wichita Falls</td>\n",
       "      <td>US</td>\n",
       "      <td>84.20</td>\n",
       "      <td>33.9137</td>\n",
       "      <td>-98.4934</td>\n",
       "      <td></td>\n",
       "    </tr>\n",
       "  </tbody>\n",
       "</table>\n",
       "</div>"
      ],
      "text/plain": [
       "              City Country  Max Temp      Lat       Lng Hotel Name\n",
       "15           Vaini      TO     82.40 -21.2000 -175.2000           \n",
       "40            Fare      PF     82.08 -16.7000 -151.0167           \n",
       "48       Namatanai      PG     84.78  -3.6667  152.4333           \n",
       "55       Mogadishu      SO     81.75   2.0371   45.3438           \n",
       "62          Touros      BR     80.60  -5.1989  -35.4608           \n",
       "66      Butaritari      KI     81.81   3.0707  172.7902           \n",
       "67           Bilma      NE     81.07  18.6853   12.9164           \n",
       "88        Det Udom      TH     84.00  14.9060  105.0784           \n",
       "94          Atuona      PF     80.71  -9.8000 -139.0333           \n",
       "100  Wichita Falls      US     84.20  33.9137  -98.4934           "
      ]
     },
     "execution_count": 13,
     "metadata": {},
     "output_type": "execute_result"
    }
   ],
   "source": [
    "# Create DataFrame called hotel_df to store hotel names along with city, country, max temp, and coordinates.\n",
    "hotel_df = preferred_cities_df[[\"City\", \"Country\", \"Max Temp\", \"Lat\", \"Lng\"]].copy()\n",
    "hotel_df[\"Hotel Name\"] = \"\"\n",
    "hotel_df.head(10)"
   ]
  },
  {
   "cell_type": "code",
   "execution_count": 14,
   "metadata": {},
   "outputs": [],
   "source": [
    "# Set parameters to search for a hotel.\n",
    "params = {\n",
    "    \"radius\": 5000,\n",
    "    \"type\": \"lodging\",\n",
    "    \"key\": g_key\n",
    "}"
   ]
  },
  {
   "cell_type": "code",
   "execution_count": 15,
   "metadata": {},
   "outputs": [
    {
     "name": "stdout",
     "output_type": "stream",
     "text": [
      "Hotel not found...skipping\n",
      "Hotel not found...skipping\n",
      "Hotel not found...skipping\n",
      "Hotel not found...skipping\n",
      "Hotel not found...skipping\n",
      "Hotel not found...skipping\n",
      "Hotel not found...skipping\n"
     ]
    }
   ],
   "source": [
    "# Iterate through the DataFrame.\n",
    "for index, row in hotel_df.iterrows():\n",
    "    # Get the latitude and longitude.\n",
    "    lat = row[\"Lat\"]\n",
    "    lng = row[\"Lng\"]\n",
    "\n",
    "    # Add the latitude and longitude to location key for the params dictionary.\n",
    "    params[\"location\"] = f\"{lat},{lng}\"\n",
    "\n",
    "    # Use the search term: \"lodging\" and our latitude and longitude.\n",
    "    base_url = \"https://maps.googleapis.com/maps/api/place/nearbysearch/json\"\n",
    "    # Make request and get the JSON data from the search.\n",
    "    hotels = requests.get(base_url, params=params).json()\n",
    "    # Grab the first hotel from the results and store the name.\n",
    "    try:\n",
    "        hotel_df.loc[index, \"Hotel Name\"] = hotels[\"results\"][0][\"name\"]\n",
    "    except (IndexError):\n",
    "        print(\"Hotel not found...skipping\")"
   ]
  },
  {
   "cell_type": "code",
   "execution_count": 16,
   "metadata": {},
   "outputs": [
    {
     "data": {
      "text/html": [
       "<div>\n",
       "<style scoped>\n",
       "    .dataframe tbody tr th:only-of-type {\n",
       "        vertical-align: middle;\n",
       "    }\n",
       "\n",
       "    .dataframe tbody tr th {\n",
       "        vertical-align: top;\n",
       "    }\n",
       "\n",
       "    .dataframe thead th {\n",
       "        text-align: right;\n",
       "    }\n",
       "</style>\n",
       "<table border=\"1\" class=\"dataframe\">\n",
       "  <thead>\n",
       "    <tr style=\"text-align: right;\">\n",
       "      <th></th>\n",
       "      <th>City</th>\n",
       "      <th>Country</th>\n",
       "      <th>Max Temp</th>\n",
       "      <th>Lat</th>\n",
       "      <th>Lng</th>\n",
       "      <th>Hotel Name</th>\n",
       "    </tr>\n",
       "  </thead>\n",
       "  <tbody>\n",
       "    <tr>\n",
       "      <th>15</th>\n",
       "      <td>Vaini</td>\n",
       "      <td>TO</td>\n",
       "      <td>82.40</td>\n",
       "      <td>-21.2000</td>\n",
       "      <td>-175.2000</td>\n",
       "      <td>Keleti Beach Resort</td>\n",
       "    </tr>\n",
       "    <tr>\n",
       "      <th>40</th>\n",
       "      <td>Fare</td>\n",
       "      <td>PF</td>\n",
       "      <td>82.08</td>\n",
       "      <td>-16.7000</td>\n",
       "      <td>-151.0167</td>\n",
       "      <td>Maitai Lapita Village Huahine</td>\n",
       "    </tr>\n",
       "    <tr>\n",
       "      <th>48</th>\n",
       "      <td>Namatanai</td>\n",
       "      <td>PG</td>\n",
       "      <td>84.78</td>\n",
       "      <td>-3.6667</td>\n",
       "      <td>152.4333</td>\n",
       "      <td>Namatanai Hotel</td>\n",
       "    </tr>\n",
       "    <tr>\n",
       "      <th>55</th>\n",
       "      <td>Mogadishu</td>\n",
       "      <td>SO</td>\n",
       "      <td>81.75</td>\n",
       "      <td>2.0371</td>\n",
       "      <td>45.3438</td>\n",
       "      <td>Olympic Hotel</td>\n",
       "    </tr>\n",
       "    <tr>\n",
       "      <th>62</th>\n",
       "      <td>Touros</td>\n",
       "      <td>BR</td>\n",
       "      <td>80.60</td>\n",
       "      <td>-5.1989</td>\n",
       "      <td>-35.4608</td>\n",
       "      <td>INN NEW HORIZON</td>\n",
       "    </tr>\n",
       "    <tr>\n",
       "      <th>...</th>\n",
       "      <td>...</td>\n",
       "      <td>...</td>\n",
       "      <td>...</td>\n",
       "      <td>...</td>\n",
       "      <td>...</td>\n",
       "      <td>...</td>\n",
       "    </tr>\n",
       "    <tr>\n",
       "      <th>552</th>\n",
       "      <td>San Fernando</td>\n",
       "      <td>PH</td>\n",
       "      <td>80.60</td>\n",
       "      <td>15.0286</td>\n",
       "      <td>120.6898</td>\n",
       "      <td>Maharlika Hostel</td>\n",
       "    </tr>\n",
       "    <tr>\n",
       "      <th>556</th>\n",
       "      <td>Bokoro</td>\n",
       "      <td>TD</td>\n",
       "      <td>86.68</td>\n",
       "      <td>12.3807</td>\n",
       "      <td>17.0568</td>\n",
       "      <td></td>\n",
       "    </tr>\n",
       "    <tr>\n",
       "      <th>563</th>\n",
       "      <td>Harindanga</td>\n",
       "      <td>IN</td>\n",
       "      <td>82.40</td>\n",
       "      <td>22.0383</td>\n",
       "      <td>88.3214</td>\n",
       "      <td>QARI ARIF BILLAH HOUSE. &amp; THE INTERNATIONAL TA...</td>\n",
       "    </tr>\n",
       "    <tr>\n",
       "      <th>576</th>\n",
       "      <td>Neiafu</td>\n",
       "      <td>TO</td>\n",
       "      <td>82.40</td>\n",
       "      <td>-18.6500</td>\n",
       "      <td>-173.9833</td>\n",
       "      <td>Mystic Sands</td>\n",
       "    </tr>\n",
       "    <tr>\n",
       "      <th>579</th>\n",
       "      <td>Kailua</td>\n",
       "      <td>US</td>\n",
       "      <td>80.60</td>\n",
       "      <td>21.4022</td>\n",
       "      <td>-157.7394</td>\n",
       "      <td>Sheffield House Bed &amp; Breakfast</td>\n",
       "    </tr>\n",
       "  </tbody>\n",
       "</table>\n",
       "<p>96 rows × 6 columns</p>\n",
       "</div>"
      ],
      "text/plain": [
       "             City Country  Max Temp      Lat       Lng  \\\n",
       "15          Vaini      TO     82.40 -21.2000 -175.2000   \n",
       "40           Fare      PF     82.08 -16.7000 -151.0167   \n",
       "48      Namatanai      PG     84.78  -3.6667  152.4333   \n",
       "55      Mogadishu      SO     81.75   2.0371   45.3438   \n",
       "62         Touros      BR     80.60  -5.1989  -35.4608   \n",
       "..            ...     ...       ...      ...       ...   \n",
       "552  San Fernando      PH     80.60  15.0286  120.6898   \n",
       "556        Bokoro      TD     86.68  12.3807   17.0568   \n",
       "563    Harindanga      IN     82.40  22.0383   88.3214   \n",
       "576        Neiafu      TO     82.40 -18.6500 -173.9833   \n",
       "579        Kailua      US     80.60  21.4022 -157.7394   \n",
       "\n",
       "                                            Hotel Name  \n",
       "15                                 Keleti Beach Resort  \n",
       "40                       Maitai Lapita Village Huahine  \n",
       "48                                     Namatanai Hotel  \n",
       "55                                       Olympic Hotel  \n",
       "62                                     INN NEW HORIZON  \n",
       "..                                                 ...  \n",
       "552                                   Maharlika Hostel  \n",
       "556                                                     \n",
       "563  QARI ARIF BILLAH HOUSE. & THE INTERNATIONAL TA...  \n",
       "576                                       Mystic Sands  \n",
       "579                    Sheffield House Bed & Breakfast  \n",
       "\n",
       "[96 rows x 6 columns]"
      ]
     },
     "execution_count": 16,
     "metadata": {},
     "output_type": "execute_result"
    }
   ],
   "source": [
    "hotel_df"
   ]
  },
  {
   "cell_type": "code",
   "execution_count": 17,
   "metadata": {},
   "outputs": [
    {
     "data": {
      "application/vnd.jupyter.widget-view+json": {
       "model_id": "3cd9096b831640938f14ef2323681ed4",
       "version_major": 2,
       "version_minor": 0
      },
      "text/plain": [
       "Figure(layout=FigureLayout(height='420px'))"
      ]
     },
     "metadata": {},
     "output_type": "display_data"
    }
   ],
   "source": [
    "# Add a heatmap of temperature for the vacation spots.\n",
    "locations = hotel_df[[\"Lat\", \"Lng\"]]\n",
    "max_temp = hotel_df[\"Max Temp\"]\n",
    "fig = gmaps.figure(center=(30.0, 31.0), zoom_level=1.5)\n",
    "heat_layer = gmaps.heatmap_layer(locations, weights=max_temp, dissipating=False,\n",
    "             max_intensity=300, point_radius=4)\n",
    "\n",
    "fig.add_layer(heat_layer)\n",
    "# Call the figure to plot the data.\n",
    "fig"
   ]
  },
  {
   "cell_type": "code",
   "execution_count": 18,
   "metadata": {},
   "outputs": [
    {
     "data": {
      "application/vnd.jupyter.widget-view+json": {
       "model_id": "748b301931924cb4bb19e5a3d35c3310",
       "version_major": 2,
       "version_minor": 0
      },
      "text/plain": [
       "Figure(layout=FigureLayout(height='420px'))"
      ]
     },
     "metadata": {},
     "output_type": "display_data"
    }
   ],
   "source": [
    "# Add a heatmap of temperature for the vacation spots.\n",
    "locations = hotel_df[[\"Lat\", \"Lng\"]]\n",
    "max_temp = hotel_df[\"Max Temp\"]\n",
    "fig = gmaps.figure(center=(30.0, 31.0), zoom_level=1.5)\n",
    "heat_layer = gmaps.heatmap_layer(locations, weights=max_temp, dissipating=False,\n",
    "             max_intensity=300, point_radius=4)\n",
    "\n",
    "marker_layer = gmaps.marker_layer(locations)\n",
    "\n",
    "fig.add_layer(heat_layer)\n",
    "fig.add_layer(marker_layer)\n",
    "\n",
    "# Call the figure to plot the data.\n",
    "fig"
   ]
  },
  {
   "cell_type": "code",
   "execution_count": 19,
   "metadata": {},
   "outputs": [],
   "source": [
    "info_box_template = \"\"\"\n",
    "<dl>\n",
    "<dt>Hotel Name</dt><dd>{Hotel Name}</dd>\n",
    "<dt>City</dt><dd>{City}</dd>\n",
    "<dt>Country</dt><dd>{Country}</dd>\n",
    "<dt>Max Temp</dt><dd>{Max Temp} °F</dd>\n",
    "</dl>\n",
    "\"\"\""
   ]
  },
  {
   "cell_type": "code",
   "execution_count": 20,
   "metadata": {},
   "outputs": [
    {
     "data": {
      "text/plain": [
       "['\\n<dl>\\n<dt>Hotel Name</dt><dd>Keleti Beach Resort</dd>\\n<dt>City</dt><dd>Vaini</dd>\\n<dt>Country</dt><dd>TO</dd>\\n<dt>Max Temp</dt><dd>82.4 °F</dd>\\n</dl>\\n',\n",
       " '\\n<dl>\\n<dt>Hotel Name</dt><dd>Maitai Lapita Village Huahine</dd>\\n<dt>City</dt><dd>Fare</dd>\\n<dt>Country</dt><dd>PF</dd>\\n<dt>Max Temp</dt><dd>82.08 °F</dd>\\n</dl>\\n',\n",
       " '\\n<dl>\\n<dt>Hotel Name</dt><dd>Namatanai Hotel</dd>\\n<dt>City</dt><dd>Namatanai</dd>\\n<dt>Country</dt><dd>PG</dd>\\n<dt>Max Temp</dt><dd>84.78 °F</dd>\\n</dl>\\n',\n",
       " '\\n<dl>\\n<dt>Hotel Name</dt><dd>Olympic Hotel</dd>\\n<dt>City</dt><dd>Mogadishu</dd>\\n<dt>Country</dt><dd>SO</dd>\\n<dt>Max Temp</dt><dd>81.75 °F</dd>\\n</dl>\\n',\n",
       " '\\n<dl>\\n<dt>Hotel Name</dt><dd>INN NEW HORIZON</dd>\\n<dt>City</dt><dd>Touros</dd>\\n<dt>Country</dt><dd>BR</dd>\\n<dt>Max Temp</dt><dd>80.6 °F</dd>\\n</dl>\\n',\n",
       " '\\n<dl>\\n<dt>Hotel Name</dt><dd>Isles Sunset Lodge</dd>\\n<dt>City</dt><dd>Butaritari</dd>\\n<dt>Country</dt><dd>KI</dd>\\n<dt>Max Temp</dt><dd>81.81 °F</dd>\\n</dl>\\n',\n",
       " '\\n<dl>\\n<dt>Hotel Name</dt><dd>Expeditions Ténére voyages</dd>\\n<dt>City</dt><dd>Bilma</dd>\\n<dt>Country</dt><dd>NE</dd>\\n<dt>Max Temp</dt><dd>81.07 °F</dd>\\n</dl>\\n',\n",
       " '\\n<dl>\\n<dt>Hotel Name</dt><dd>Chatsuda Resort</dd>\\n<dt>City</dt><dd>Det Udom</dd>\\n<dt>Country</dt><dd>TH</dd>\\n<dt>Max Temp</dt><dd>84.0 °F</dd>\\n</dl>\\n',\n",
       " '\\n<dl>\\n<dt>Hotel Name</dt><dd>Villa Enata</dd>\\n<dt>City</dt><dd>Atuona</dd>\\n<dt>Country</dt><dd>PF</dd>\\n<dt>Max Temp</dt><dd>80.71 °F</dd>\\n</dl>\\n',\n",
       " '\\n<dl>\\n<dt>Hotel Name</dt><dd>Quality Inn & Suites Wichita Falls I-44</dd>\\n<dt>City</dt><dd>Wichita Falls</dd>\\n<dt>Country</dt><dd>US</dd>\\n<dt>Max Temp</dt><dd>84.2 °F</dd>\\n</dl>\\n',\n",
       " '\\n<dl>\\n<dt>Hotel Name</dt><dd>Derogongan Residence</dd>\\n<dt>City</dt><dd>Marawi</dd>\\n<dt>Country</dt><dd>PH</dd>\\n<dt>Max Temp</dt><dd>80.01 °F</dd>\\n</dl>\\n',\n",
       " '\\n<dl>\\n<dt>Hotel Name</dt><dd>Haajy Guest House 1</dd>\\n<dt>City</dt><dd>Kulhudhuffushi</dd>\\n<dt>Country</dt><dd>MV</dd>\\n<dt>Max Temp</dt><dd>81.9 °F</dd>\\n</dl>\\n',\n",
       " '\\n<dl>\\n<dt>Hotel Name</dt><dd>Idéal Villa Hôtel</dd>\\n<dt>City</dt><dd>Delmas</dd>\\n<dt>Country</dt><dd>HT</dd>\\n<dt>Max Temp</dt><dd>82.4 °F</dd>\\n</dl>\\n',\n",
       " '\\n<dl>\\n<dt>Hotel Name</dt><dd>Green hotel</dd>\\n<dt>City</dt><dd>Vung Tau</dd>\\n<dt>Country</dt><dd>VN</dd>\\n<dt>Max Temp</dt><dd>80.91 °F</dd>\\n</dl>\\n',\n",
       " \"\\n<dl>\\n<dt>Hotel Name</dt><dd>l'hôtel samassa</dd>\\n<dt>City</dt><dd>Ndioum</dd>\\n<dt>Country</dt><dd>SN</dd>\\n<dt>Max Temp</dt><dd>89.6 °F</dd>\\n</dl>\\n\",\n",
       " '\\n<dl>\\n<dt>Hotel Name</dt><dd>Raybow International Hotel</dd>\\n<dt>City</dt><dd>Takoradi</dd>\\n<dt>Country</dt><dd>GH</dd>\\n<dt>Max Temp</dt><dd>80.89 °F</dd>\\n</dl>\\n',\n",
       " '\\n<dl>\\n<dt>Hotel Name</dt><dd>asi es</dd>\\n<dt>City</dt><dd>Acajutla</dd>\\n<dt>Country</dt><dd>SV</dd>\\n<dt>Max Temp</dt><dd>84.2 °F</dd>\\n</dl>\\n',\n",
       " '\\n<dl>\\n<dt>Hotel Name</dt><dd>Vahmoneh Lodge Vanimo</dd>\\n<dt>City</dt><dd>Vanimo</dd>\\n<dt>Country</dt><dd>PG</dd>\\n<dt>Max Temp</dt><dd>82.6 °F</dd>\\n</dl>\\n',\n",
       " '\\n<dl>\\n<dt>Hotel Name</dt><dd>Riviera Royal Hotel</dd>\\n<dt>City</dt><dd>Conakry</dd>\\n<dt>Country</dt><dd>GN</dd>\\n<dt>Max Temp</dt><dd>82.4 °F</dd>\\n</dl>\\n',\n",
       " '\\n<dl>\\n<dt>Hotel Name</dt><dd>Casa Morey Hotel & Restaurant</dd>\\n<dt>City</dt><dd>Iquitos</dd>\\n<dt>Country</dt><dd>PE</dd>\\n<dt>Max Temp</dt><dd>82.4 °F</dd>\\n</dl>\\n',\n",
       " '\\n<dl>\\n<dt>Hotel Name</dt><dd></dd>\\n<dt>City</dt><dd>Gao</dd>\\n<dt>Country</dt><dd>ML</dd>\\n<dt>Max Temp</dt><dd>82.72 °F</dd>\\n</dl>\\n',\n",
       " '\\n<dl>\\n<dt>Hotel Name</dt><dd>Uruna Bay Retreat</dd>\\n<dt>City</dt><dd>Kieta</dd>\\n<dt>Country</dt><dd>PG</dd>\\n<dt>Max Temp</dt><dd>84.56 °F</dd>\\n</dl>\\n',\n",
       " '\\n<dl>\\n<dt>Hotel Name</dt><dd>HAMDAN PLAZA HOTEL SALALAH</dd>\\n<dt>City</dt><dd>Salalah</dd>\\n<dt>Country</dt><dd>OM</dd>\\n<dt>Max Temp</dt><dd>80.6 °F</dd>\\n</dl>\\n',\n",
       " '\\n<dl>\\n<dt>Hotel Name</dt><dd>Paradise Inn</dd>\\n<dt>City</dt><dd>Avarua</dd>\\n<dt>Country</dt><dd>CK</dd>\\n<dt>Max Temp</dt><dd>84.2 °F</dd>\\n</dl>\\n',\n",
       " '\\n<dl>\\n<dt>Hotel Name</dt><dd>Dwi Putra Hotel - Ende</dd>\\n<dt>City</dt><dd>Ende</dd>\\n<dt>Country</dt><dd>ID</dd>\\n<dt>Max Temp</dt><dd>81.09 °F</dd>\\n</dl>\\n',\n",
       " '\\n<dl>\\n<dt>Hotel Name</dt><dd>El rranchito michuacan de ocampos</dd>\\n<dt>City</dt><dd>Coahuayana</dd>\\n<dt>Country</dt><dd>MX</dd>\\n<dt>Max Temp</dt><dd>82.4 °F</dd>\\n</dl>\\n',\n",
       " '\\n<dl>\\n<dt>Hotel Name</dt><dd>Volcano Sea View Tree House</dd>\\n<dt>City</dt><dd>Isangel</dd>\\n<dt>Country</dt><dd>VU</dd>\\n<dt>Max Temp</dt><dd>84.2 °F</dd>\\n</dl>\\n',\n",
       " '\\n<dl>\\n<dt>Hotel Name</dt><dd>Hotel Mpampa</dd>\\n<dt>City</dt><dd>Soyo</dd>\\n<dt>Country</dt><dd>AO</dd>\\n<dt>Max Temp</dt><dd>80.1 °F</dd>\\n</dl>\\n',\n",
       " '\\n<dl>\\n<dt>Hotel Name</dt><dd>Nusa Island Retreat</dd>\\n<dt>City</dt><dd>Kavieng</dd>\\n<dt>Country</dt><dd>PG</dd>\\n<dt>Max Temp</dt><dd>84.11 °F</dd>\\n</dl>\\n',\n",
       " '\\n<dl>\\n<dt>Hotel Name</dt><dd>Royal Park hotel & suites</dd>\\n<dt>City</dt><dd>Minna</dd>\\n<dt>Country</dt><dd>NG</dd>\\n<dt>Max Temp</dt><dd>83.77 °F</dd>\\n</dl>\\n',\n",
       " '\\n<dl>\\n<dt>Hotel Name</dt><dd>Dhidhoo beach</dd>\\n<dt>City</dt><dd>Dhidhdhoo</dd>\\n<dt>Country</dt><dd>MV</dd>\\n<dt>Max Temp</dt><dd>82.04 °F</dd>\\n</dl>\\n',\n",
       " '\\n<dl>\\n<dt>Hotel Name</dt><dd>GResort</dd>\\n<dt>City</dt><dd>Catuday</dd>\\n<dt>Country</dt><dd>PH</dd>\\n<dt>Max Temp</dt><dd>80.17 °F</dd>\\n</dl>\\n',\n",
       " '\\n<dl>\\n<dt>Hotel Name</dt><dd></dd>\\n<dt>City</dt><dd>Ouallam</dd>\\n<dt>Country</dt><dd>NE</dd>\\n<dt>Max Temp</dt><dd>88.14 °F</dd>\\n</dl>\\n',\n",
       " \"\\n<dl>\\n<dt>Hotel Name</dt><dd>Cattleman's Rest Motor Inn</dd>\\n<dt>City</dt><dd>Charters Towers</dd>\\n<dt>Country</dt><dd>AU</dd>\\n<dt>Max Temp</dt><dd>82.53 °F</dd>\\n</dl>\\n\",\n",
       " '\\n<dl>\\n<dt>Hotel Name</dt><dd>SEGAYA PROPERTY</dd>\\n<dt>City</dt><dd>Dingle</dd>\\n<dt>Country</dt><dd>PH</dd>\\n<dt>Max Temp</dt><dd>81.75 °F</dd>\\n</dl>\\n',\n",
       " '\\n<dl>\\n<dt>Hotel Name</dt><dd>Scoop Guest House</dd>\\n<dt>City</dt><dd>Hithadhoo</dd>\\n<dt>Country</dt><dd>MV</dd>\\n<dt>Max Temp</dt><dd>82.65 °F</dd>\\n</dl>\\n',\n",
       " '\\n<dl>\\n<dt>Hotel Name</dt><dd>Hotel</dd>\\n<dt>City</dt><dd>Mubi</dd>\\n<dt>Country</dt><dd>NG</dd>\\n<dt>Max Temp</dt><dd>83.77 °F</dd>\\n</dl>\\n',\n",
       " '\\n<dl>\\n<dt>Hotel Name</dt><dd></dd>\\n<dt>City</dt><dd>Yaan</dd>\\n<dt>Country</dt><dd>NG</dd>\\n<dt>Max Temp</dt><dd>81.48 °F</dd>\\n</dl>\\n',\n",
       " '\\n<dl>\\n<dt>Hotel Name</dt><dd></dd>\\n<dt>City</dt><dd>Taoudenni</dd>\\n<dt>Country</dt><dd>ML</dd>\\n<dt>Max Temp</dt><dd>85.77 °F</dd>\\n</dl>\\n',\n",
       " '\\n<dl>\\n<dt>Hotel Name</dt><dd>Hotel koliba</dd>\\n<dt>City</dt><dd>Gaoual</dd>\\n<dt>Country</dt><dd>GN</dd>\\n<dt>Max Temp</dt><dd>83.17 °F</dd>\\n</dl>\\n',\n",
       " '\\n<dl>\\n<dt>Hotel Name</dt><dd>Holiday Inn Selma-Swancourt</dd>\\n<dt>City</dt><dd>Selma</dd>\\n<dt>Country</dt><dd>US</dd>\\n<dt>Max Temp</dt><dd>81.0 °F</dd>\\n</dl>\\n',\n",
       " '\\n<dl>\\n<dt>Hotel Name</dt><dd>Baan Kru Tum Chiang Khan</dd>\\n<dt>City</dt><dd>Phon</dd>\\n<dt>Country</dt><dd>TH</dd>\\n<dt>Max Temp</dt><dd>80.01 °F</dd>\\n</dl>\\n',\n",
       " '\\n<dl>\\n<dt>Hotel Name</dt><dd>Welcomhotel Bay Island Port Blair</dd>\\n<dt>City</dt><dd>Port Blair</dd>\\n<dt>Country</dt><dd>IN</dd>\\n<dt>Max Temp</dt><dd>80.67 °F</dd>\\n</dl>\\n',\n",
       " '\\n<dl>\\n<dt>Hotel Name</dt><dd>Mary River Motor Inn</dd>\\n<dt>City</dt><dd>Gympie</dd>\\n<dt>Country</dt><dd>AU</dd>\\n<dt>Max Temp</dt><dd>82.99 °F</dd>\\n</dl>\\n',\n",
       " '\\n<dl>\\n<dt>Hotel Name</dt><dd>Hotel Giardini</dd>\\n<dt>City</dt><dd>Calabozo</dd>\\n<dt>Country</dt><dd>VE</dd>\\n<dt>Max Temp</dt><dd>85.69 °F</dd>\\n</dl>\\n',\n",
       " '\\n<dl>\\n<dt>Hotel Name</dt><dd>ibis Styles Mt Isa Verona</dd>\\n<dt>City</dt><dd>Mount Isa</dd>\\n<dt>Country</dt><dd>AU</dd>\\n<dt>Max Temp</dt><dd>86.0 °F</dd>\\n</dl>\\n',\n",
       " '\\n<dl>\\n<dt>Hotel Name</dt><dd>Novotel Phuket Resort</dd>\\n<dt>City</dt><dd>Kathu</dd>\\n<dt>Country</dt><dd>TH</dd>\\n<dt>Max Temp</dt><dd>84.99 °F</dd>\\n</dl>\\n',\n",
       " '\\n<dl>\\n<dt>Hotel Name</dt><dd>Ex Hacienda Temascatio</dd>\\n<dt>City</dt><dd>San Jose Temascatio</dd>\\n<dt>Country</dt><dd>MX</dd>\\n<dt>Max Temp</dt><dd>87.8 °F</dd>\\n</dl>\\n',\n",
       " '\\n<dl>\\n<dt>Hotel Name</dt><dd>Oustaz Vame DIAKITE</dd>\\n<dt>City</dt><dd>Odienne</dd>\\n<dt>Country</dt><dd>CI</dd>\\n<dt>Max Temp</dt><dd>86.72 °F</dd>\\n</dl>\\n',\n",
       " '\\n<dl>\\n<dt>Hotel Name</dt><dd>Grand Vilia Hotel</dd>\\n<dt>City</dt><dd>Tual</dd>\\n<dt>Country</dt><dd>ID</dd>\\n<dt>Max Temp</dt><dd>83.89 °F</dd>\\n</dl>\\n',\n",
       " '\\n<dl>\\n<dt>Hotel Name</dt><dd>International Lodge Motel</dd>\\n<dt>City</dt><dd>Mackay</dd>\\n<dt>Country</dt><dd>AU</dd>\\n<dt>Max Temp</dt><dd>84.99 °F</dd>\\n</dl>\\n',\n",
       " '\\n<dl>\\n<dt>Hotel Name</dt><dd>Calypso Cove</dd>\\n<dt>City</dt><dd>West Bay</dd>\\n<dt>Country</dt><dd>KY</dd>\\n<dt>Max Temp</dt><dd>82.4 °F</dd>\\n</dl>\\n',\n",
       " '\\n<dl>\\n<dt>Hotel Name</dt><dd>Marruá Hotel</dd>\\n<dt>City</dt><dd>Bonito</dd>\\n<dt>Country</dt><dd>BR</dd>\\n<dt>Max Temp</dt><dd>83.08 °F</dd>\\n</dl>\\n',\n",
       " '\\n<dl>\\n<dt>Hotel Name</dt><dd>Cititel Penang</dd>\\n<dt>City</dt><dd>Georgetown</dd>\\n<dt>Country</dt><dd>MY</dd>\\n<dt>Max Temp</dt><dd>80.6 °F</dd>\\n</dl>\\n',\n",
       " '\\n<dl>\\n<dt>Hotel Name</dt><dd>Kevina Transient House</dd>\\n<dt>City</dt><dd>Aborlan</dd>\\n<dt>Country</dt><dd>PH</dd>\\n<dt>Max Temp</dt><dd>80.6 °F</dd>\\n</dl>\\n',\n",
       " '\\n<dl>\\n<dt>Hotel Name</dt><dd>Pondok Wisata Elim</dd>\\n<dt>City</dt><dd>Waingapu</dd>\\n<dt>Country</dt><dd>ID</dd>\\n<dt>Max Temp</dt><dd>80.33 °F</dd>\\n</dl>\\n',\n",
       " '\\n<dl>\\n<dt>Hotel Name</dt><dd>Spanish Villa</dd>\\n<dt>City</dt><dd>Mumford</dd>\\n<dt>Country</dt><dd>GH</dd>\\n<dt>Max Temp</dt><dd>80.69 °F</dd>\\n</dl>\\n',\n",
       " '\\n<dl>\\n<dt>Hotel Name</dt><dd>HS Hotsson Smart Acapulco</dd>\\n<dt>City</dt><dd>Acapulco</dd>\\n<dt>Country</dt><dd>MX</dd>\\n<dt>Max Temp</dt><dd>84.2 °F</dd>\\n</dl>\\n',\n",
       " '\\n<dl>\\n<dt>Hotel Name</dt><dd>Aldea del Bazar Hotel and Spa</dd>\\n<dt>City</dt><dd>Puerto Escondido</dd>\\n<dt>Country</dt><dd>MX</dd>\\n<dt>Max Temp</dt><dd>86.0 °F</dd>\\n</dl>\\n',\n",
       " '\\n<dl>\\n<dt>Hotel Name</dt><dd>The Irish Village</dd>\\n<dt>City</dt><dd>Emerald</dd>\\n<dt>Country</dt><dd>AU</dd>\\n<dt>Max Temp</dt><dd>82.99 °F</dd>\\n</dl>\\n',\n",
       " '\\n<dl>\\n<dt>Hotel Name</dt><dd></dd>\\n<dt>City</dt><dd>Lagos</dd>\\n<dt>Country</dt><dd>NG</dd>\\n<dt>Max Temp</dt><dd>82.4 °F</dd>\\n</dl>\\n',\n",
       " '\\n<dl>\\n<dt>Hotel Name</dt><dd>Suites Las Palmas</dd>\\n<dt>City</dt><dd>Ojinaga</dd>\\n<dt>Country</dt><dd>MX</dd>\\n<dt>Max Temp</dt><dd>89.6 °F</dd>\\n</dl>\\n',\n",
       " '\\n<dl>\\n<dt>Hotel Name</dt><dd>La Piedra Hotel</dd>\\n<dt>City</dt><dd>Bahia De Caraquez</dd>\\n<dt>Country</dt><dd>EC</dd>\\n<dt>Max Temp</dt><dd>82.4 °F</dd>\\n</dl>\\n',\n",
       " '\\n<dl>\\n<dt>Hotel Name</dt><dd>Bora-Bora Pearl Beach Resort & Spa</dd>\\n<dt>City</dt><dd>Faanui</dd>\\n<dt>Country</dt><dd>PF</dd>\\n<dt>Max Temp</dt><dd>82.0 °F</dd>\\n</dl>\\n',\n",
       " '\\n<dl>\\n<dt>Hotel Name</dt><dd>Nuli Sapi</dd>\\n<dt>City</dt><dd>Samarai</dd>\\n<dt>Country</dt><dd>PG</dd>\\n<dt>Max Temp</dt><dd>80.37 °F</dd>\\n</dl>\\n',\n",
       " '\\n<dl>\\n<dt>Hotel Name</dt><dd>Posada Villaven C.A.</dd>\\n<dt>City</dt><dd>San Cristobal</dd>\\n<dt>Country</dt><dd>VE</dd>\\n<dt>Max Temp</dt><dd>80.6 °F</dd>\\n</dl>\\n',\n",
       " '\\n<dl>\\n<dt>Hotel Name</dt><dd>Hotel y restaurante \"El Diamante\"</dd>\\n<dt>City</dt><dd>Champerico</dd>\\n<dt>Country</dt><dd>GT</dd>\\n<dt>Max Temp</dt><dd>86.0 °F</dd>\\n</dl>\\n',\n",
       " '\\n<dl>\\n<dt>Hotel Name</dt><dd>Hotel Club Playamar</dd>\\n<dt>City</dt><dd>Mazatlan</dd>\\n<dt>Country</dt><dd>MX</dd>\\n<dt>Max Temp</dt><dd>80.01 °F</dd>\\n</dl>\\n',\n",
       " '\\n<dl>\\n<dt>Hotel Name</dt><dd>Oumou Elghoura</dd>\\n<dt>City</dt><dd>Atar</dd>\\n<dt>Country</dt><dd>MR</dd>\\n<dt>Max Temp</dt><dd>80.91 °F</dd>\\n</dl>\\n',\n",
       " '\\n<dl>\\n<dt>Hotel Name</dt><dd>Villa Bella</dd>\\n<dt>City</dt><dd>Tondano</dd>\\n<dt>Country</dt><dd>ID</dd>\\n<dt>Max Temp</dt><dd>82.4 °F</dd>\\n</dl>\\n',\n",
       " '\\n<dl>\\n<dt>Hotel Name</dt><dd>Hotel El Emigrante</dd>\\n<dt>City</dt><dd>Puerto Colombia</dd>\\n<dt>Country</dt><dd>CO</dd>\\n<dt>Max Temp</dt><dd>80.6 °F</dd>\\n</dl>\\n',\n",
       " '\\n<dl>\\n<dt>Hotel Name</dt><dd>The Esplanade Hotel</dd>\\n<dt>City</dt><dd>Port Hedland</dd>\\n<dt>Country</dt><dd>AU</dd>\\n<dt>Max Temp</dt><dd>84.2 °F</dd>\\n</dl>\\n',\n",
       " '\\n<dl>\\n<dt>Hotel Name</dt><dd>Niyama Private Islands Maldives</dd>\\n<dt>City</dt><dd>Kudahuvadhoo</dd>\\n<dt>Country</dt><dd>MV</dd>\\n<dt>Max Temp</dt><dd>81.99 °F</dd>\\n</dl>\\n',\n",
       " '\\n<dl>\\n<dt>Hotel Name</dt><dd>Taloa Heights</dd>\\n<dt>City</dt><dd>Alofi</dd>\\n<dt>Country</dt><dd>NU</dd>\\n<dt>Max Temp</dt><dd>82.4 °F</dd>\\n</dl>\\n',\n",
       " '\\n<dl>\\n<dt>Hotel Name</dt><dd>Hotels in Lakshadweep Islands</dd>\\n<dt>City</dt><dd>Kavaratti</dd>\\n<dt>Country</dt><dd>IN</dd>\\n<dt>Max Temp</dt><dd>82.31 °F</dd>\\n</dl>\\n',\n",
       " '\\n<dl>\\n<dt>Hotel Name</dt><dd>ibis Styles Karratha</dd>\\n<dt>City</dt><dd>Karratha</dd>\\n<dt>Country</dt><dd>AU</dd>\\n<dt>Max Temp</dt><dd>84.81 °F</dd>\\n</dl>\\n',\n",
       " '\\n<dl>\\n<dt>Hotel Name</dt><dd>Bhakti Lodge</dd>\\n<dt>City</dt><dd>Pusad</dd>\\n<dt>Country</dt><dd>IN</dd>\\n<dt>Max Temp</dt><dd>82.96 °F</dd>\\n</dl>\\n',\n",
       " '\\n<dl>\\n<dt>Hotel Name</dt><dd>Maui Seaside Hotel</dd>\\n<dt>City</dt><dd>Kahului</dd>\\n<dt>Country</dt><dd>US</dd>\\n<dt>Max Temp</dt><dd>80.6 °F</dd>\\n</dl>\\n',\n",
       " '\\n<dl>\\n<dt>Hotel Name</dt><dd>Hotel Tesoro Los Cabos</dd>\\n<dt>City</dt><dd>Cabo San Lucas</dd>\\n<dt>Country</dt><dd>MX</dd>\\n<dt>Max Temp</dt><dd>87.8 °F</dd>\\n</dl>\\n',\n",
       " '\\n<dl>\\n<dt>Hotel Name</dt><dd>Mantra Trilogy Cairns</dd>\\n<dt>City</dt><dd>Cairns</dd>\\n<dt>Country</dt><dd>AU</dd>\\n<dt>Max Temp</dt><dd>84.0 °F</dd>\\n</dl>\\n',\n",
       " '\\n<dl>\\n<dt>Hotel Name</dt><dd>บ้านโนบิตะ</dd>\\n<dt>City</dt><dd>Phitsanulok</dd>\\n<dt>Country</dt><dd>TH</dd>\\n<dt>Max Temp</dt><dd>87.01 °F</dd>\\n</dl>\\n',\n",
       " '\\n<dl>\\n<dt>Hotel Name</dt><dd>Pine Tree Motel</dd>\\n<dt>City</dt><dd>Katherine</dd>\\n<dt>Country</dt><dd>AU</dd>\\n<dt>Max Temp</dt><dd>84.2 °F</dd>\\n</dl>\\n',\n",
       " '\\n<dl>\\n<dt>Hotel Name</dt><dd>Hotel Plaza Providencia</dd>\\n<dt>City</dt><dd>Ixtapa</dd>\\n<dt>Country</dt><dd>MX</dd>\\n<dt>Max Temp</dt><dd>80.6 °F</dd>\\n</dl>\\n',\n",
       " '\\n<dl>\\n<dt>Hotel Name</dt><dd></dd>\\n<dt>City</dt><dd>Tessalit</dd>\\n<dt>Country</dt><dd>ML</dd>\\n<dt>Max Temp</dt><dd>82.54 °F</dd>\\n</dl>\\n',\n",
       " '\\n<dl>\\n<dt>Hotel Name</dt><dd>Palmer Coolum Resort</dd>\\n<dt>City</dt><dd>Coolum Beach</dd>\\n<dt>Country</dt><dd>AU</dd>\\n<dt>Max Temp</dt><dd>86.0 °F</dd>\\n</dl>\\n',\n",
       " '\\n<dl>\\n<dt>Hotel Name</dt><dd>Casa Claumar B2BPay</dd>\\n<dt>City</dt><dd>Cienfuegos</dd>\\n<dt>Country</dt><dd>CU</dd>\\n<dt>Max Temp</dt><dd>80.6 °F</dd>\\n</dl>\\n',\n",
       " '\\n<dl>\\n<dt>Hotel Name</dt><dd>Hotel Nusantara Nabire</dd>\\n<dt>City</dt><dd>Nabire</dd>\\n<dt>Country</dt><dd>ID</dd>\\n<dt>Max Temp</dt><dd>80.47 °F</dd>\\n</dl>\\n',\n",
       " '\\n<dl>\\n<dt>Hotel Name</dt><dd>Backpackers Inn on the Beach</dd>\\n<dt>City</dt><dd>Byron Bay</dd>\\n<dt>Country</dt><dd>AU</dd>\\n<dt>Max Temp</dt><dd>81.0 °F</dd>\\n</dl>\\n',\n",
       " '\\n<dl>\\n<dt>Hotel Name</dt><dd>Debright Motel</dd>\\n<dt>City</dt><dd>Jalingo</dd>\\n<dt>Country</dt><dd>NG</dd>\\n<dt>Max Temp</dt><dd>84.24 °F</dd>\\n</dl>\\n',\n",
       " '\\n<dl>\\n<dt>Hotel Name</dt><dd>Hôtel Le Lagon</dd>\\n<dt>City</dt><dd>Noumea</dd>\\n<dt>Country</dt><dd>NC</dd>\\n<dt>Max Temp</dt><dd>80.01 °F</dd>\\n</dl>\\n',\n",
       " '\\n<dl>\\n<dt>Hotel Name</dt><dd>Motel 6 Sinton, TX</dd>\\n<dt>City</dt><dd>San Patricio</dd>\\n<dt>Country</dt><dd>US</dd>\\n<dt>Max Temp</dt><dd>82.4 °F</dd>\\n</dl>\\n',\n",
       " '\\n<dl>\\n<dt>Hotel Name</dt><dd>Maharlika Hostel</dd>\\n<dt>City</dt><dd>San Fernando</dd>\\n<dt>Country</dt><dd>PH</dd>\\n<dt>Max Temp</dt><dd>80.6 °F</dd>\\n</dl>\\n',\n",
       " '\\n<dl>\\n<dt>Hotel Name</dt><dd></dd>\\n<dt>City</dt><dd>Bokoro</dd>\\n<dt>Country</dt><dd>TD</dd>\\n<dt>Max Temp</dt><dd>86.68 °F</dd>\\n</dl>\\n',\n",
       " '\\n<dl>\\n<dt>Hotel Name</dt><dd>QARI ARIF BILLAH HOUSE. & THE INTERNATIONAL TAHFIZUL. QURAN MADRASAH MISSAIN</dd>\\n<dt>City</dt><dd>Harindanga</dd>\\n<dt>Country</dt><dd>IN</dd>\\n<dt>Max Temp</dt><dd>82.4 °F</dd>\\n</dl>\\n',\n",
       " '\\n<dl>\\n<dt>Hotel Name</dt><dd>Mystic Sands</dd>\\n<dt>City</dt><dd>Neiafu</dd>\\n<dt>Country</dt><dd>TO</dd>\\n<dt>Max Temp</dt><dd>82.4 °F</dd>\\n</dl>\\n',\n",
       " '\\n<dl>\\n<dt>Hotel Name</dt><dd>Sheffield House Bed & Breakfast</dd>\\n<dt>City</dt><dd>Kailua</dd>\\n<dt>Country</dt><dd>US</dd>\\n<dt>Max Temp</dt><dd>80.6 °F</dd>\\n</dl>\\n']"
      ]
     },
     "execution_count": 20,
     "metadata": {},
     "output_type": "execute_result"
    }
   ],
   "source": [
    "hotel_info = [info_box_template.format(**row) for index, row in hotel_df.iterrows()]\n",
    "hotel_info"
   ]
  },
  {
   "cell_type": "code",
   "execution_count": 21,
   "metadata": {},
   "outputs": [
    {
     "data": {
      "application/vnd.jupyter.widget-view+json": {
       "model_id": "26c87050286840998045256daedaab4c",
       "version_major": 2,
       "version_minor": 0
      },
      "text/plain": [
       "Figure(layout=FigureLayout(height='420px'))"
      ]
     },
     "metadata": {},
     "output_type": "display_data"
    }
   ],
   "source": [
    "# Add a heatmap of temperature for the vacation spots and a pop-up marker for each city.\n",
    "locations = hotel_df[[\"Lat\", \"Lng\"]]\n",
    "max_temp = hotel_df[\"Max Temp\"]\n",
    "fig = gmaps.figure(center=(30.0, 31.0), zoom_level=1.5)\n",
    "heat_layer = gmaps.heatmap_layer(locations, weights=max_temp,dissipating=False,\n",
    "             max_intensity=300, point_radius=4)\n",
    "marker_layer = gmaps.marker_layer(locations, info_box_content=hotel_info)\n",
    "fig.add_layer(heat_layer)\n",
    "fig.add_layer(marker_layer)\n",
    "\n",
    "# Call the figure to plot the data.\n",
    "fig"
   ]
  }
 ],
 "metadata": {
  "kernelspec": {
   "display_name": "PythonData",
   "language": "python",
   "name": "pythondata"
  },
  "language_info": {
   "codemirror_mode": {
    "name": "ipython",
    "version": 3
   },
   "file_extension": ".py",
   "mimetype": "text/x-python",
   "name": "python",
   "nbconvert_exporter": "python",
   "pygments_lexer": "ipython3",
   "version": "3.7.9"
  }
 },
 "nbformat": 4,
 "nbformat_minor": 4
}
