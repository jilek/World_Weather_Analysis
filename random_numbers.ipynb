{
 "cells": [
  {
   "cell_type": "code",
   "execution_count": 9,
   "metadata": {},
   "outputs": [],
   "source": [
    "import random\n",
    "import numpy as np\n",
    "import timeit"
   ]
  },
  {
   "cell_type": "code",
   "execution_count": 2,
   "metadata": {},
   "outputs": [
    {
     "data": {
      "text/plain": [
       "70"
      ]
     },
     "execution_count": 2,
     "metadata": {},
     "output_type": "execute_result"
    }
   ],
   "source": [
    "random.randint(-90, 90)"
   ]
  },
  {
   "cell_type": "code",
   "execution_count": 3,
   "metadata": {},
   "outputs": [
    {
     "data": {
      "text/plain": [
       "-66.47529501599297"
      ]
     },
     "execution_count": 3,
     "metadata": {},
     "output_type": "execute_result"
    }
   ],
   "source": [
    "random_number = random.randint(-90,89) + random.random()\n",
    "random_number"
   ]
  },
  {
   "cell_type": "code",
   "execution_count": 4,
   "metadata": {},
   "outputs": [
    {
     "data": {
      "text/plain": [
       "[18.743911113148446,\n",
       " -26.35962263802941,\n",
       " 89.3644233064505,\n",
       " -35.74893798655479,\n",
       " 4.142411464945318,\n",
       " -13.983028699754861,\n",
       " -56.56571485591824,\n",
       " 56.20795557529452,\n",
       " -14.080662874619469,\n",
       " -51.27678019218318]"
      ]
     },
     "execution_count": 4,
     "metadata": {},
     "output_type": "execute_result"
    }
   ],
   "source": [
    "x = 1\n",
    "latitudes = []\n",
    "while x < 11:\n",
    "    random_lat = random.randint(-90, 89) + random.random()\n",
    "    latitudes.append(random_lat)\n",
    "    x += 1\n",
    "latitudes"
   ]
  },
  {
   "cell_type": "code",
   "execution_count": 5,
   "metadata": {},
   "outputs": [
    {
     "name": "stdout",
     "output_type": "stream",
     "text": [
      "0 0.0\n",
      "0 0.0\n",
      "21 3.0\n",
      "28 4.0\n",
      "7 1.0\n",
      "70 10.0\n",
      "63 9.0\n",
      "70 10.0\n",
      "56 8.0\n",
      "21 3.0\n"
     ]
    }
   ],
   "source": [
    "for nn in range(0,10):\n",
    "    xx = random.randrange(0,100,7)\n",
    "    print(xx,xx/7)"
   ]
  },
  {
   "cell_type": "code",
   "execution_count": 6,
   "metadata": {},
   "outputs": [
    {
     "data": {
      "text/plain": [
       "41.53766919577541"
      ]
     },
     "execution_count": 6,
     "metadata": {},
     "output_type": "execute_result"
    }
   ],
   "source": [
    "np.random.uniform(-90.000, 90.000)"
   ]
  },
  {
   "cell_type": "code",
   "execution_count": 7,
   "metadata": {},
   "outputs": [
    {
     "data": {
      "text/plain": [
       "array([-74.88763279, -46.00073842, -84.10959378,  21.99540228,\n",
       "        30.77101523,  24.63871719,  62.5850182 ,  26.08500295,\n",
       "        31.7838526 ,   1.23109567,  70.9589928 ,  -2.68229135,\n",
       "        60.81586165,  56.04124036,  33.37524452, -30.07403025,\n",
       "       -71.69417399,  72.01170404, -71.19662636, -78.08773332,\n",
       "       -31.61358475, -62.43685536,  30.13746219,  38.3325753 ,\n",
       "         7.04747432,  88.09663212,  13.35720928, -67.00897157,\n",
       "        66.96061692,  81.63374789,  89.34854188,  70.87906658,\n",
       "       -53.82342484,  68.761435  , -82.28134719, -71.63726774,\n",
       "        58.38400223, -52.42908808,  70.79922265, -15.01900997,\n",
       "        58.12414418,   4.36826848,  52.31372626, -43.51007978,\n",
       "        40.59340275, -44.3039277 , -42.97109921, -21.79217708,\n",
       "       -56.86424846,  -9.53898411])"
      ]
     },
     "execution_count": 7,
     "metadata": {},
     "output_type": "execute_result"
    }
   ],
   "source": [
    "np.random.uniform(-90.000, 90.000, size=50)"
   ]
  },
  {
   "cell_type": "code",
   "execution_count": 10,
   "metadata": {},
   "outputs": [
    {
     "name": "stdout",
     "output_type": "stream",
     "text": [
      "16.8 µs ± 629 ns per loop (mean ± std. dev. of 7 runs, 100000 loops each)\n"
     ]
    }
   ],
   "source": [
    "%timeit np.random.uniform(-90.000, 90.000, size=1500)"
   ]
  },
  {
   "cell_type": "code",
   "execution_count": 11,
   "metadata": {},
   "outputs": [
    {
     "name": "stdout",
     "output_type": "stream",
     "text": [
      "1.89 ms ± 131 µs per loop (mean ± std. dev. of 7 runs, 100 loops each)\n"
     ]
    }
   ],
   "source": [
    "def latitudes(size):\n",
    "    latitudes = []\n",
    "    x = 0\n",
    "    while x < (size):\n",
    "        random_lat = random.randint(-90, 90) + random.random()\n",
    "        latitudes.append(random_lat)\n",
    "        x += 1\n",
    "    return latitudes\n",
    "# Call the function with 1500.\n",
    "%timeit latitudes(1500)"
   ]
  },
  {
   "cell_type": "code",
   "execution_count": 15,
   "metadata": {},
   "outputs": [
    {
     "name": "stdout",
     "output_type": "stream",
     "text": [
      "[-11.89248743  49.27773622  50.48142975 ...  22.8834168   32.36147839\n",
      " -85.20051939]\n"
     ]
    }
   ],
   "source": [
    "def latitudes2(lsize):\n",
    "    latitudes = np.random.uniform(-90.000, 90.000, size=lsize)\n",
    "    return latitudes\n",
    "# Call the function with 1500.\n",
    "#%timeit latitudes2(1500)\n",
    "print(latitudes2(1500))"
   ]
  },
  {
   "cell_type": "code",
   "execution_count": null,
   "metadata": {},
   "outputs": [],
   "source": []
  }
 ],
 "metadata": {
  "kernelspec": {
   "display_name": "PythonData",
   "language": "python",
   "name": "pythondata"
  },
  "language_info": {
   "codemirror_mode": {
    "name": "ipython",
    "version": 3
   },
   "file_extension": ".py",
   "mimetype": "text/x-python",
   "name": "python",
   "nbconvert_exporter": "python",
   "pygments_lexer": "ipython3",
   "version": "3.7.9"
  }
 },
 "nbformat": 4,
 "nbformat_minor": 4
}
