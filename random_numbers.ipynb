{
 "cells": [
  {
   "cell_type": "code",
   "execution_count": 1,
   "metadata": {},
   "outputs": [],
   "source": [
    "import random\n",
    "import numpy as np\n",
    "import timeit"
   ]
  },
  {
   "cell_type": "code",
   "execution_count": 2,
   "metadata": {},
   "outputs": [
    {
     "data": {
      "text/plain": [
       "-40"
      ]
     },
     "execution_count": 2,
     "metadata": {},
     "output_type": "execute_result"
    }
   ],
   "source": [
    "random.randint(-90, 90)"
   ]
  },
  {
   "cell_type": "code",
   "execution_count": 3,
   "metadata": {},
   "outputs": [
    {
     "data": {
      "text/plain": [
       "37.07954646225146"
      ]
     },
     "execution_count": 3,
     "metadata": {},
     "output_type": "execute_result"
    }
   ],
   "source": [
    "random_number = random.randint(-90,89) + random.random()\n",
    "random_number"
   ]
  },
  {
   "cell_type": "code",
   "execution_count": 4,
   "metadata": {},
   "outputs": [
    {
     "data": {
      "text/plain": [
       "[9.572362759077704,\n",
       " -65.68747696916428,\n",
       " 40.51359248638584,\n",
       " -86.05677139039533,\n",
       " -35.77011104059404,\n",
       " 64.72980442720198,\n",
       " 58.97506539912142,\n",
       " 57.65394308218756,\n",
       " 5.998169199330663,\n",
       " 0.5671736137550898]"
      ]
     },
     "execution_count": 4,
     "metadata": {},
     "output_type": "execute_result"
    }
   ],
   "source": [
    "x = 1\n",
    "latitudes = []\n",
    "while x < 11:\n",
    "    random_lat = random.randint(-90, 89) + random.random()\n",
    "    latitudes.append(random_lat)\n",
    "    x += 1\n",
    "latitudes"
   ]
  },
  {
   "cell_type": "code",
   "execution_count": 5,
   "metadata": {},
   "outputs": [
    {
     "name": "stdout",
     "output_type": "stream",
     "text": [
      "49 7.0\n",
      "63 9.0\n",
      "77 11.0\n",
      "28 4.0\n",
      "63 9.0\n",
      "98 14.0\n",
      "77 11.0\n",
      "28 4.0\n",
      "56 8.0\n",
      "0 0.0\n"
     ]
    }
   ],
   "source": [
    "for nn in range(0,10):\n",
    "    xx = random.randrange(0,100,7)\n",
    "    print(xx,xx/7)"
   ]
  },
  {
   "cell_type": "code",
   "execution_count": 6,
   "metadata": {},
   "outputs": [
    {
     "data": {
      "text/plain": [
       "4.341971695798009"
      ]
     },
     "execution_count": 6,
     "metadata": {},
     "output_type": "execute_result"
    }
   ],
   "source": [
    "np.random.uniform(-90.000, 90.000)"
   ]
  },
  {
   "cell_type": "code",
   "execution_count": 7,
   "metadata": {},
   "outputs": [
    {
     "data": {
      "text/plain": [
       "array([-25.25741243,  25.07732719,  22.35872589, -32.53760775,\n",
       "       -21.57267423,  78.78928762,  15.64165572,  42.99392572,\n",
       "       -58.28350067, -40.05906814,   1.06105498, -30.392523  ,\n",
       "        45.11991782, -25.11418996,  70.23503845,  71.496078  ,\n",
       "        27.02755902,  75.7592863 ,  54.46038105, -52.8180676 ,\n",
       "        26.13280929, -33.32326355,  75.27669191,  75.21039786,\n",
       "        39.60768775,   2.42040835, -87.41701732, -51.38100748,\n",
       "        12.84785448,  16.24715561, -63.39808961,  -9.1210432 ,\n",
       "       -66.14603053,  68.7771316 ,  55.87842367,   5.85755257,\n",
       "       -75.93032703,  77.12665352,  72.46020446,  22.97399916,\n",
       "        48.05321776,  -1.96404754,  37.0994752 ,  74.20522768,\n",
       "        17.3584748 , -27.52986854, -19.69386611,  -3.77477468,\n",
       "       -87.97399086,  44.51077022])"
      ]
     },
     "execution_count": 7,
     "metadata": {},
     "output_type": "execute_result"
    }
   ],
   "source": [
    "np.random.uniform(-90.000, 90.000, size=50)"
   ]
  },
  {
   "cell_type": "code",
   "execution_count": 8,
   "metadata": {},
   "outputs": [
    {
     "name": "stdout",
     "output_type": "stream",
     "text": [
      "15.1 µs ± 280 ns per loop (mean ± std. dev. of 7 runs, 100000 loops each)\n"
     ]
    }
   ],
   "source": [
    "%timeit np.random.uniform(-90.000, 90.000, size=1500)"
   ]
  },
  {
   "cell_type": "code",
   "execution_count": 9,
   "metadata": {},
   "outputs": [
    {
     "name": "stdout",
     "output_type": "stream",
     "text": [
      "1.79 ms ± 29.2 µs per loop (mean ± std. dev. of 7 runs, 1000 loops each)\n"
     ]
    }
   ],
   "source": [
    "def latitudes(size):\n",
    "    latitudes = []\n",
    "    x = 0\n",
    "    while x < (size):\n",
    "        random_lat = random.randint(-90, 90) + random.random()\n",
    "        latitudes.append(random_lat)\n",
    "        x += 1\n",
    "    return latitudes\n",
    "# Call the function with 1500.\n",
    "%timeit latitudes(1500)"
   ]
  },
  {
   "cell_type": "code",
   "execution_count": 10,
   "metadata": {},
   "outputs": [
    {
     "name": "stdout",
     "output_type": "stream",
     "text": [
      "[ 34.80626804  12.29585253 -35.16771529 ...  15.70358471  52.26141274\n",
      "  17.0706767 ]\n"
     ]
    }
   ],
   "source": [
    "def latitudes2(lsize):\n",
    "    latitudes = np.random.uniform(-90.000, 90.000, size=lsize)\n",
    "    return latitudes\n",
    "# Call the function with 1500.\n",
    "#%timeit latitudes2(1500)\n",
    "print(latitudes2(1500))"
   ]
  },
  {
   "cell_type": "code",
   "execution_count": null,
   "metadata": {},
   "outputs": [],
   "source": []
  }
 ],
 "metadata": {
  "kernelspec": {
   "display_name": "PythonData",
   "language": "python",
   "name": "pythondata"
  },
  "language_info": {
   "codemirror_mode": {
    "name": "ipython",
    "version": 3
   },
   "file_extension": ".py",
   "mimetype": "text/x-python",
   "name": "python",
   "nbconvert_exporter": "python",
   "pygments_lexer": "ipython3",
   "version": "3.7.9"
  }
 },
 "nbformat": 4,
 "nbformat_minor": 4
}
